{
 "cells": [
  {
   "cell_type": "code",
   "execution_count": 22,
   "metadata": {},
   "outputs": [
    {
     "data": {
      "text/plain": [
       "'42 -9'"
      ]
     },
     "execution_count": 22,
     "metadata": {},
     "output_type": "execute_result"
    }
   ],
   "source": [
    "def high_and_low(numbers):\n",
    "    numbers = list(map(int, numbers.split()))\n",
    "    return f'{max(numbers)} {min(numbers)}'\n",
    "\n",
    "high_and_low(\"8 3 -5 42 -1 0 0 -9 4 7 4 -4\")"
   ]
  },
  {
   "cell_type": "code",
   "execution_count": 28,
   "metadata": {},
   "outputs": [
    {
     "data": {
      "text/plain": [
       "3661000"
      ]
     },
     "execution_count": 28,
     "metadata": {},
     "output_type": "execute_result"
    }
   ],
   "source": [
    "def past(h, m, s):\n",
    "    s_ms = s * 1000\n",
    "    m_ms = m * 60000\n",
    "    h_ms = (h * 60) * 60000\n",
    "    \n",
    "    return int(s_ms + m_ms + h_ms)\n",
    "\n",
    "#past(0,1,1)\n",
    "past(1,1,1)\n",
    "#past(0,0,0,)\n",
    "#past(1,0,1)\n",
    "#past(1,0,0)"
   ]
  },
  {
   "cell_type": "code",
   "execution_count": 56,
   "metadata": {},
   "outputs": [
    {
     "data": {
      "text/plain": [
       "3"
      ]
     },
     "execution_count": 56,
     "metadata": {},
     "output_type": "execute_result"
    }
   ],
   "source": [
    "def find_short(s):\n",
    "    n = s.split()\n",
    "    m =[]\n",
    "    for l in n:\n",
    "        m.append(len(l))\n",
    "    return min(m)\n",
    "\n",
    "find_short(\"bitcoin take over the world maybe who knows perhaps\")"
   ]
  },
  {
   "cell_type": "code",
   "execution_count": 62,
   "metadata": {},
   "outputs": [
    {
     "data": {
      "text/plain": [
       "'000011110'"
      ]
     },
     "execution_count": 62,
     "metadata": {},
     "output_type": "execute_result"
    }
   ],
   "source": [
    "def fake_bin(x):\n",
    "    return ''.join(['0' if int(char) < 5 else '1' for char in x])\n",
    "\n",
    "fake_bin('123456780')"
   ]
  },
  {
   "cell_type": "code",
   "execution_count": 21,
   "metadata": {},
   "outputs": [
    {
     "data": {
      "text/plain": [
       "5"
      ]
     },
     "execution_count": 21,
     "metadata": {},
     "output_type": "execute_result"
    }
   ],
   "source": [
    "import math\n",
    "def square_sum(numbers):\n",
    "    return sum(num**2 for num in numbers)\n",
    "\n",
    "square_sum([1,2])"
   ]
  },
  {
   "cell_type": "code",
   "execution_count": 23,
   "metadata": {},
   "outputs": [
    {
     "data": {
      "text/plain": [
       "0.7"
      ]
     },
     "execution_count": 23,
     "metadata": {},
     "output_type": "execute_result"
    }
   ],
   "source": [
    "def litres(time):\n",
    "    wotah = time * 0.5\n",
    "    return wotah\n",
    "\n",
    "litres(1.4)"
   ]
  },
  {
   "cell_type": "code",
   "execution_count": null,
   "metadata": {},
   "outputs": [],
   "source": [
    "def zero_fuel(distance_to_pump, mpg, fuel_left):\n",
    "    if mpg * fuel_left < distance_to_pump:\n",
    "        return False\n",
    "    elif mpg * fuel_left >= distance_to_pump:\n",
    "        return True"
   ]
  }
 ],
 "metadata": {
  "kernelspec": {
   "display_name": "Python 3",
   "language": "python",
   "name": "python3"
  },
  "language_info": {
   "codemirror_mode": {
    "name": "ipython",
    "version": 3
   },
   "file_extension": ".py",
   "mimetype": "text/x-python",
   "name": "python",
   "nbconvert_exporter": "python",
   "pygments_lexer": "ipython3",
   "version": "3.11.5"
  }
 },
 "nbformat": 4,
 "nbformat_minor": 2
}
