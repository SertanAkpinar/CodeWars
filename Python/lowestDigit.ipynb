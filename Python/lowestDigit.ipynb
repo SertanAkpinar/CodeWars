{
 "cells": [
  {
   "cell_type": "code",
   "execution_count": 17,
   "metadata": {},
   "outputs": [
    {
     "data": {
      "text/plain": [
       "[361, 223, 311, 268, 269, 185, 163, 9]"
      ]
     },
     "execution_count": 17,
     "metadata": {},
     "output_type": "execute_result"
    }
   ],
   "source": [
    "def remove_smallest(numbers):\n",
    "    if not numbers:\n",
    "        return [ ]\n",
    "    smallest = min(numbers)\n",
    "    smallest_index = numbers.index(smallest)\n",
    "    return numbers[:smallest_index] + numbers[smallest_index+1:]\n",
    "\n",
    "remove_smallest([361, 223, 311, 268, 3, 269, 185, 163, 9])"
   ]
  }
 ],
 "metadata": {
  "kernelspec": {
   "display_name": "Python 3",
   "language": "python",
   "name": "python3"
  },
  "language_info": {
   "codemirror_mode": {
    "name": "ipython",
    "version": 3
   },
   "file_extension": ".py",
   "mimetype": "text/x-python",
   "name": "python",
   "nbconvert_exporter": "python",
   "pygments_lexer": "ipython3",
   "version": "3.11.5"
  }
 },
 "nbformat": 4,
 "nbformat_minor": 2
}
