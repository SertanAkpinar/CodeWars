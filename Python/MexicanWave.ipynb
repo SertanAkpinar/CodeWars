{
 "cells": [
  {
   "cell_type": "code",
   "execution_count": 12,
   "metadata": {},
   "outputs": [
    {
     "data": {
      "text/plain": [
       "['Two words',\n",
       " 'tWo words',\n",
       " 'twO words',\n",
       " 'two Words',\n",
       " 'two wOrds',\n",
       " 'two woRds',\n",
       " 'two worDs',\n",
       " 'two wordS']"
      ]
     },
     "execution_count": 12,
     "metadata": {},
     "output_type": "execute_result"
    }
   ],
   "source": [
    "def wave(people):\n",
    "    wave = []\n",
    "    for i in range(len(people)):\n",
    "        if people[i].isalpha():\n",
    "            new_word = people[:i].lower() + people[i].upper() + people[i+1:].lower()\n",
    "            wave.append(new_word)\n",
    "    return wave\n",
    "\n",
    "\n",
    "            \n",
    "wave('two words')"
   ]
  },
  {
   "cell_type": "code",
   "execution_count": null,
   "metadata": {},
   "outputs": [],
   "source": []
  }
 ],
 "metadata": {
  "kernelspec": {
   "display_name": "Python 3",
   "language": "python",
   "name": "python3"
  },
  "language_info": {
   "codemirror_mode": {
    "name": "ipython",
    "version": 3
   },
   "file_extension": ".py",
   "mimetype": "text/x-python",
   "name": "python",
   "nbconvert_exporter": "python",
   "pygments_lexer": "ipython3",
   "version": "3.11.5"
  }
 },
 "nbformat": 4,
 "nbformat_minor": 2
}
