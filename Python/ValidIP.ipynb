{
 "cells": [
  {
   "cell_type": "code",
   "execution_count": 52,
   "metadata": {},
   "outputs": [
    {
     "name": "stdout",
     "output_type": "stream",
     "text": [
      "False\n",
      "True\n",
      "False\n",
      "False\n",
      "False\n",
      "True\n",
      "False\n"
     ]
    }
   ],
   "source": [
    "def is_valid_IP(strng):\n",
    "    parts = strng.split('.')\n",
    "\n",
    "    if len(parts) != 4:\n",
    "        return False\n",
    "\n",
    "    any_alpha = any(not part.isdigit() for part in parts)\n",
    "    if any_alpha:\n",
    "        return False\n",
    "    \n",
    "    wrong_number = any(int(part) < 0 or int(part) > 255 for part in parts)\n",
    "    if wrong_number:\n",
    "        return False\n",
    "    \n",
    "    wrong_start = any(part.startswith('0') and len(part) > 1 for part in parts)\n",
    "    if wrong_start:\n",
    "        return False\n",
    "\n",
    "    return True\n",
    "\n",
    "print(is_valid_IP('192.168.1.01'))\n",
    "print(is_valid_IP('0.168.1.1'))\n",
    "print(is_valid_IP('192.168.1.abc'))\n",
    "print(is_valid_IP('333.1.2.3'))\n",
    "print(is_valid_IP('1.2.3'))\n",
    "print(is_valid_IP('0.0.0.0'))\n",
    "print(is_valid_IP('01.03.40.11'))\n",
    "\n"
   ]
  },
  {
   "cell_type": "code",
   "execution_count": null,
   "metadata": {},
   "outputs": [],
   "source": []
  }
 ],
 "metadata": {
  "kernelspec": {
   "display_name": "Python 3",
   "language": "python",
   "name": "python3"
  },
  "language_info": {
   "codemirror_mode": {
    "name": "ipython",
    "version": 3
   },
   "file_extension": ".py",
   "mimetype": "text/x-python",
   "name": "python",
   "nbconvert_exporter": "python",
   "pygments_lexer": "ipython3",
   "version": "3.11.5"
  }
 },
 "nbformat": 4,
 "nbformat_minor": 2
}
