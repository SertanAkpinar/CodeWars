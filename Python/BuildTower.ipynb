{
 "cells": [
  {
   "cell_type": "code",
   "execution_count": 2,
   "metadata": {},
   "outputs": [
    {
     "name": "stdout",
     "output_type": "stream",
     "text": [
      "  *  \n",
      " *** \n"
     ]
    }
   ],
   "source": [
    "print('  *  ')\n",
    "print(' *** ')"
   ]
  },
  {
   "cell_type": "code",
   "execution_count": 13,
   "metadata": {},
   "outputs": [
    {
     "data": {
      "text/plain": [
       "[]"
      ]
     },
     "execution_count": 13,
     "metadata": {},
     "output_type": "execute_result"
    }
   ],
   "source": [
    "def tower_builder(n_floors):\n",
    "    tower = []\n",
    "    base_width = 2 * n_floors - 1\n",
    "    \n",
    "    for i in range(n_floors):\n",
    "        num_stars = 2 * i + 1\n",
    "        num_spaces = (base_width - num_stars) // 2\n",
    "        floor = ' ' * num_spaces + '*' * num_stars + ' ' * num_spaces\n",
    "        tower.append(floor)\n",
    "    \n",
    "    return tower\n",
    "\n",
    "tower_builder(0)"
   ]
  }
 ],
 "metadata": {
  "kernelspec": {
   "display_name": "Python 3",
   "language": "python",
   "name": "python3"
  },
  "language_info": {
   "codemirror_mode": {
    "name": "ipython",
    "version": 3
   },
   "file_extension": ".py",
   "mimetype": "text/x-python",
   "name": "python",
   "nbconvert_exporter": "python",
   "pygments_lexer": "ipython3",
   "version": "3.11.5"
  }
 },
 "nbformat": 4,
 "nbformat_minor": 2
}
